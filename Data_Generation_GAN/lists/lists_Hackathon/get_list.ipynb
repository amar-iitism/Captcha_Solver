{
 "cells": [
  {
   "cell_type": "code",
   "execution_count": null,
   "id": "1c1109ce-438a-4d38-a4f2-c8d9f8a3398a",
   "metadata": {},
   "outputs": [],
   "source": [
    "import os\n",
    "folder_path = \"../../../data/Hackathon_Barclays/test\""
   ]
  },
  {
   "cell_type": "code",
   "execution_count": null,
   "id": "c8a70c21-967d-4204-9732-d8d7299b373b",
   "metadata": {},
   "outputs": [],
   "source": [
    "data_val = []\n",
    "for file_name in file_names:\n",
    "    data_val.append(f_name)\n",
    "with open('training_label.txt','w') as f:\n",
    "    for item in data_val:\n",
    "        f.write(\"%s\\n\" % item)"
   ]
  },
  {
   "cell_type": "code",
   "execution_count": null,
   "id": "40abb41d-2c79-4713-bfda-24b70c3d1dc8",
   "metadata": {},
   "outputs": [],
   "source": [
    "name = []\n",
    "for file_name in file_names:\n",
    "    name.append(file_name)\n",
    "with open('training_image.txt','w') as f:\n",
    "    for item in name:\n",
    "        f.write(\"%s\\n\" % item)"
   ]
  }
 ],
 "metadata": {
  "kernelspec": {
   "display_name": "Amar_Kernel",
   "language": "python",
   "name": "myenv"
  },
  "language_info": {
   "codemirror_mode": {
    "name": "ipython",
    "version": 3
   },
   "file_extension": ".py",
   "mimetype": "text/x-python",
   "name": "python",
   "nbconvert_exporter": "python",
   "pygments_lexer": "ipython3",
   "version": "3.9.15"
  }
 },
 "nbformat": 4,
 "nbformat_minor": 5
}
