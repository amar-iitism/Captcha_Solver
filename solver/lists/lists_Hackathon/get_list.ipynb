{
 "cells": [
  {
   "cell_type": "code",
   "execution_count": 1,
   "id": "bd900c05-0cf3-413d-a7b7-aa0e106f8044",
   "metadata": {
    "tags": []
   },
   "outputs": [],
   "source": [
    "import os\n",
    "folder_path = \"../../../data/Hackathon_Barclays/test\""
   ]
  },
  {
   "cell_type": "code",
   "execution_count": 2,
   "id": "077b767b-ff9d-482e-884f-5545a8826ea6",
   "metadata": {
    "tags": []
   },
   "outputs": [],
   "source": [
    "file_names = os.listdir(folder_path)"
   ]
  },
  {
   "cell_type": "code",
   "execution_count": 7,
   "id": "2771e8c0-a092-4488-9e2c-3f5a4a86684c",
   "metadata": {
    "tags": []
   },
   "outputs": [],
   "source": [
    "name = []\n",
    "for file_name in file_names:\n",
    "    f_name = file_name.split('.')[0]\n",
    "    name.append(f_name)\n",
    "with open('training_label.txt','w') as f:\n",
    "    for item in name:\n",
    "        f.write(\"%s\\n\" % item)"
   ]
  },
  {
   "cell_type": "code",
   "execution_count": 6,
   "id": "f671595e-ccca-4221-b5da-2b89e2eb2f5a",
   "metadata": {
    "tags": []
   },
   "outputs": [],
   "source": [
    "name = []\n",
    "for file_name in file_names:\n",
    "    name.append(file_name)\n",
    "with open('training_image.txt','w') as f:\n",
    "    for item in name:\n",
    "        f.write(\"%s\\n\" % item)"
   ]
  },
  {
   "cell_type": "code",
   "execution_count": null,
   "id": "70cbb6f4-c00d-4f82-bdf4-50ea2549ebdd",
   "metadata": {},
   "outputs": [],
   "source": []
  }
 ],
 "metadata": {
  "kernelspec": {
   "display_name": "Amar_Kernel",
   "language": "python",
   "name": "myenv"
  },
  "language_info": {
   "codemirror_mode": {
    "name": "ipython",
    "version": 3
   },
   "file_extension": ".py",
   "mimetype": "text/x-python",
   "name": "python",
   "nbconvert_exporter": "python",
   "pygments_lexer": "ipython3",
   "version": "3.9.15"
  }
 },
 "nbformat": 4,
 "nbformat_minor": 5
}
